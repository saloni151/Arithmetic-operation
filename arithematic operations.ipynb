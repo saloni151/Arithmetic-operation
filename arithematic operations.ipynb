{
 "cells": [
  {
   "cell_type": "code",
   "execution_count": 1,
   "id": "05fdc082",
   "metadata": {},
   "outputs": [
    {
     "name": "stdout",
     "output_type": "stream",
     "text": [
      "enter the two values: \n"
     ]
    }
   ],
   "source": [
    "print(\"enter the two values: \")"
   ]
  },
  {
   "cell_type": "code",
   "execution_count": 2,
   "id": "17d702a0",
   "metadata": {},
   "outputs": [
    {
     "name": "stdout",
     "output_type": "stream",
     "text": [
      "2\n"
     ]
    }
   ],
   "source": [
    "a=float(input())"
   ]
  },
  {
   "cell_type": "code",
   "execution_count": 5,
   "id": "eeb2513b",
   "metadata": {},
   "outputs": [
    {
     "name": "stdout",
     "output_type": "stream",
     "text": [
      "5\n"
     ]
    }
   ],
   "source": [
    "b=float(input())"
   ]
  },
  {
   "cell_type": "code",
   "execution_count": 7,
   "id": "31c194a0",
   "metadata": {},
   "outputs": [
    {
     "name": "stdout",
     "output_type": "stream",
     "text": [
      "the addition of 2.0 and 5.0 is 7.0 \n"
     ]
    }
   ],
   "source": [
    "print(\"the addition of {} and {} is {} \".format(a,b,a+b))"
   ]
  },
  {
   "cell_type": "code",
   "execution_count": 8,
   "id": "706512c6",
   "metadata": {},
   "outputs": [
    {
     "name": "stdout",
     "output_type": "stream",
     "text": [
      "the substraction of 2.0 and 5.0 is -3.0\n"
     ]
    }
   ],
   "source": [
    "print(\"the substraction of {} and {} is {}\".format(a,b,a-b))"
   ]
  },
  {
   "cell_type": "code",
   "execution_count": 9,
   "id": "557bbc29",
   "metadata": {},
   "outputs": [
    {
     "name": "stdout",
     "output_type": "stream",
     "text": [
      "the multiplication of 2.0 and 5.0 is 10.0\n"
     ]
    }
   ],
   "source": [
    "print(\"the multiplication of {} and {} is {}\".format(a,b,a*b))"
   ]
  },
  {
   "cell_type": "code",
   "execution_count": 10,
   "id": "73b7c8b6",
   "metadata": {},
   "outputs": [
    {
     "name": "stdout",
     "output_type": "stream",
     "text": [
      "the division of 2.0 and 5.0 is 0.4\n"
     ]
    }
   ],
   "source": [
    "print(\"the division of {} and {} is {}\".format(a,b,a/b))"
   ]
  },
  {
   "cell_type": "code",
   "execution_count": 14,
   "id": "7eda6375",
   "metadata": {},
   "outputs": [
    {
     "name": "stdout",
     "output_type": "stream",
     "text": [
      "the modulo of2.0 and 5.0is 2.0\n"
     ]
    }
   ],
   "source": [
    "print(\"the modulo of{} and {}is {}\".format(a,b,a%b))"
   ]
  },
  {
   "cell_type": "code",
   "execution_count": 15,
   "id": "60453628",
   "metadata": {},
   "outputs": [
    {
     "name": "stdout",
     "output_type": "stream",
     "text": [
      "the exponential value of 2.0 and 5.0is 32.0\n"
     ]
    }
   ],
   "source": [
    "print(\"the exponential value of {} and {}is {}\".format(a,b,a**b))"
   ]
  },
  {
   "cell_type": "code",
   "execution_count": 16,
   "id": "e262fc14",
   "metadata": {},
   "outputs": [
    {
     "name": "stdout",
     "output_type": "stream",
     "text": [
      "the floor division of 2.0 and 5.0 is 0.0\n"
     ]
    }
   ],
   "source": [
    "print(\"the floor division of {} and {} is {}\".format(a,b,a//b))"
   ]
  },
  {
   "cell_type": "code",
   "execution_count": null,
   "id": "228efb21",
   "metadata": {},
   "outputs": [],
   "source": []
  },
  {
   "cell_type": "code",
   "execution_count": null,
   "id": "e5280a15",
   "metadata": {},
   "outputs": [],
   "source": []
  },
  {
   "cell_type": "code",
   "execution_count": null,
   "id": "bc55bdd7",
   "metadata": {},
   "outputs": [],
   "source": []
  },
  {
   "cell_type": "code",
   "execution_count": null,
   "id": "06a6974a",
   "metadata": {},
   "outputs": [],
   "source": []
  },
  {
   "cell_type": "code",
   "execution_count": null,
   "id": "139bcf10",
   "metadata": {},
   "outputs": [],
   "source": []
  },
  {
   "cell_type": "code",
   "execution_count": null,
   "id": "5cfba384",
   "metadata": {},
   "outputs": [],
   "source": []
  },
  {
   "cell_type": "code",
   "execution_count": null,
   "id": "14f462d5",
   "metadata": {},
   "outputs": [],
   "source": []
  },
  {
   "cell_type": "code",
   "execution_count": null,
   "id": "f1f8eb42",
   "metadata": {},
   "outputs": [],
   "source": []
  },
  {
   "cell_type": "code",
   "execution_count": null,
   "id": "81861006",
   "metadata": {},
   "outputs": [],
   "source": []
  },
  {
   "cell_type": "code",
   "execution_count": null,
   "id": "a3bc712e",
   "metadata": {},
   "outputs": [],
   "source": []
  },
  {
   "cell_type": "code",
   "execution_count": null,
   "id": "26f72b97",
   "metadata": {},
   "outputs": [],
   "source": []
  },
  {
   "cell_type": "code",
   "execution_count": null,
   "id": "4d411a1b",
   "metadata": {},
   "outputs": [],
   "source": []
  }
 ],
 "metadata": {
  "kernelspec": {
   "display_name": "Python 3 (ipykernel)",
   "language": "python",
   "name": "python3"
  },
  "language_info": {
   "codemirror_mode": {
    "name": "ipython",
    "version": 3
   },
   "file_extension": ".py",
   "mimetype": "text/x-python",
   "name": "python",
   "nbconvert_exporter": "python",
   "pygments_lexer": "ipython3",
   "version": "3.10.9"
  }
 },
 "nbformat": 4,
 "nbformat_minor": 5
}
